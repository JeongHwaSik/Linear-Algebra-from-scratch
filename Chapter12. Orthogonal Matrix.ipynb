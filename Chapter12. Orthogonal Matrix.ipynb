{
 "cells": [
  {
   "cell_type": "code",
   "execution_count": 3,
   "id": "94105962",
   "metadata": {},
   "outputs": [],
   "source": [
    "def matmul(A, B):\n",
    "    m = len(A)\n",
    "    r = len(A[0]) # r = len(B)\n",
    "    n = len(B[0])\n",
    "    res = []\n",
    "    for i in range(m):\n",
    "        row = []\n",
    "        for j in range(n):\n",
    "            val = 0\n",
    "            for k in range(r):\n",
    "                val += A[i][k] * B[k][j]\n",
    "            row.append(val)\n",
    "        res.append(row)\n",
    "    return res\n",
    "\n",
    "def transpose(A):\n",
    "    n = len(A)\n",
    "    m = len(A[0])\n",
    "    res = []\n",
    "    for j in range(m):\n",
    "        row = []\n",
    "        for i in range(n):\n",
    "            val = A[i][j]\n",
    "            row.append(val)\n",
    "        res.append(row)\n",
    "    return res"
   ]
  },
  {
   "cell_type": "code",
   "execution_count": 5,
   "id": "be86656b",
   "metadata": {},
   "outputs": [
    {
     "name": "stdout",
     "output_type": "stream",
     "text": [
      "[[0.9999999999999998, 0.0], [0.0, 0.9999999999999998]]\n"
     ]
    }
   ],
   "source": [
    "# check if A is orthogonal matrix\n",
    "\n",
    "A = [[1/(2**0.5), -1/(2**0.5)],[1/(2**0.5),1/(2**0.5)]]\n",
    "At = transpose(A)\n",
    "\n",
    "res = matmul(A, At)\n",
    "print(res) # identity matrix"
   ]
  },
  {
   "cell_type": "code",
   "execution_count": 7,
   "id": "695d8235",
   "metadata": {},
   "outputs": [
    {
     "name": "stdout",
     "output_type": "stream",
     "text": [
      "[[1. 0.]\n",
      " [0. 1.]]\n"
     ]
    }
   ],
   "source": [
    "# using numpy\n",
    "\n",
    "import numpy as np\n",
    "\n",
    "A = np.array([[1/(2**0.5), -1/(2**0.5)],[1/(2**0.5),1/(2**0.5)]])\n",
    "At = np.transpose(A)\n",
    "\n",
    "res = np.matmul(A, At)\n",
    "print(res) # identity matrix"
   ]
  }
 ],
 "metadata": {
  "kernelspec": {
   "display_name": "Python 3 (ipykernel)",
   "language": "python",
   "name": "python3"
  },
  "language_info": {
   "codemirror_mode": {
    "name": "ipython",
    "version": 3
   },
   "file_extension": ".py",
   "mimetype": "text/x-python",
   "name": "python",
   "nbconvert_exporter": "python",
   "pygments_lexer": "ipython3",
   "version": "3.9.7"
  }
 },
 "nbformat": 4,
 "nbformat_minor": 5
}
