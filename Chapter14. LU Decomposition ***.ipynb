{
 "cells": [
  {
   "cell_type": "code",
   "execution_count": 63,
   "id": "18cac53c",
   "metadata": {},
   "outputs": [
    {
     "name": "stdout",
     "output_type": "stream",
     "text": [
      "U = [[1.0, -1.0, -1.0], [-0.0, 1.0, -1.0], [0.0, 0.0, 1.0]]\n",
      "\n",
      "L = [[2.0, 0, 0], [0, -2.0, 0], [-1, 4.0, 5.0]]\n",
      "\n",
      "A = LU = [[2.0, -2.0, -2.0], [0.0, -2.0, 2.0], [-1.0, 5.0, 2.0]]\n"
     ]
    }
   ],
   "source": [
    "def matmul(A, B):\n",
    "    m = len(A)\n",
    "    r = len(A[0]) # r = len(B)\n",
    "    n = len(B[0])\n",
    "    res = []\n",
    "    for i in range(m):\n",
    "        row = []\n",
    "        for j in range(n):\n",
    "            val = 0\n",
    "            for k in range(r):\n",
    "                val += A[i][k] * B[k][j]\n",
    "            row.append(val)\n",
    "        res.append(row)\n",
    "    return res\n",
    "\n",
    "\n",
    "# LU-decomposition\n",
    "\n",
    "A = [[2,-2,-2],[0,-2,2],[-1,5,2]]\n",
    "\n",
    "a0 = A[0]\n",
    "a1 = A[1]\n",
    "a2 = A[2]\n",
    "\n",
    "L = []\n",
    "for i in range(len(A)):\n",
    "    row = []\n",
    "    for j in range(len(A[0])):\n",
    "        row.append(0)\n",
    "    L.append(row)\n",
    "\n",
    "# making first row's first element into 1\n",
    "tmp = 1/a0[0]\n",
    "L[0][0] = 1/tmp\n",
    "a0 = [element * tmp for element in a0]\n",
    "\n",
    "# second row's first element into 0\n",
    "a0_tmp = [element * -a1[0] for element in a0]\n",
    "L[1][0] = a1[0]\n",
    "for i in range(len(a1)):\n",
    "    a1[i] = a0_tmp[i] + a1[i]\n",
    "\n",
    "# third row's first element into 0\n",
    "a0_tmp = [element * -a2[0] for element in a0]\n",
    "L[2][0] = a2[0]\n",
    "for i in range(len(a2)):\n",
    "    a2[i] = a0_tmp[i] + a2[i]\n",
    "\n",
    "# making second row's second element into 1\n",
    "tmp = 1/a1[1]\n",
    "L[1][1] = 1/tmp\n",
    "a1 = [element * tmp for element in a1]\n",
    "\n",
    "# third row's second element into 0\n",
    "a1_tmp = [element * -a2[1] for element in a1]\n",
    "L[2][1] = a2[1]\n",
    "for i in range(len(a2)):\n",
    "    a2[i] = a1_tmp[i] + a2[i]\n",
    "\n",
    "# making third row's third element into 0\n",
    "tmp = 1/a2[2]\n",
    "a2 = [element * tmp for element in a2]\n",
    "L[2][2] = 1/tmp\n",
    "\n",
    "\n",
    "# L, U\n",
    "U = [a0,a1,a2]\n",
    "print(f\"U = {U}\\n\")\n",
    "print(f\"L = {L}\\n\")\n",
    "LU = matmul(L,U)\n",
    "print(f\"A = LU = {LU}\")"
   ]
  },
  {
   "cell_type": "code",
   "execution_count": 116,
   "id": "6c96c3ea",
   "metadata": {},
   "outputs": [
    {
     "name": "stdout",
     "output_type": "stream",
     "text": [
      "[[1.0, -1.0, -1.0], [-0.0, 1.0, -1.0], [0.0, 0.0, 1.0]]\n"
     ]
    }
   ],
   "source": [
    "# LU-decomposition ****\n",
    "\n",
    "def lu_decomp(A):\n",
    "    U = []\n",
    "    L = []\n",
    "    for i in range(len(A)):\n",
    "        row = []\n",
    "        for j in range(len(A[0])):\n",
    "            row.append(0)\n",
    "        L.append(row)\n",
    "\n",
    "    for i in range(len(A)):\n",
    "            tmp = 1/A[i][i] # what if A[i][i] == 0 ??? \n",
    "            L[i][i] = 1/tmp\n",
    "            A[i] = [element * tmp for element in A[i]]\n",
    "            U.append(A[i])\n",
    "\n",
    "            for j in range(i+1, len(A)):\n",
    "                a_tmp = [element * -A[j][i] for element in A[i]]\n",
    "                L[j][i] = A[j][i]\n",
    "                for k in range(len(A)):\n",
    "                    A[j][k] = a_tmp[k] + A[j][k]   \n",
    "\n",
    "    return L, U"
   ]
  },
  {
   "cell_type": "code",
   "execution_count": 121,
   "id": "f7c5f539",
   "metadata": {},
   "outputs": [
    {
     "name": "stdout",
     "output_type": "stream",
     "text": [
      "L = [[ 1.   0.   0. ]\n",
      " [-0.5  1.   0. ]\n",
      " [ 0.  -0.5  1. ]]\n",
      "\n",
      "U = [[ 2.  -2.  -2. ]\n",
      " [ 0.   4.   1. ]\n",
      " [ 0.   0.   2.5]]\n"
     ]
    }
   ],
   "source": [
    "# LU-decomposition using numpy, scipy\n",
    "\n",
    "import numpy as np\n",
    "from scipy.linalg import lu\n",
    "\n",
    "A = np.array([[2,-2,-2],[0,-2,2],[-1,5,2]])\n",
    "\n",
    "P, L, U = lu(A)\n",
    "print(f\"L = {L}\\n\")\n",
    "print(f\"U = {U}\")"
   ]
  }
 ],
 "metadata": {
  "kernelspec": {
   "display_name": "Python 3 (ipykernel)",
   "language": "python",
   "name": "python3"
  },
  "language_info": {
   "codemirror_mode": {
    "name": "ipython",
    "version": 3
   },
   "file_extension": ".py",
   "mimetype": "text/x-python",
   "name": "python",
   "nbconvert_exporter": "python",
   "pygments_lexer": "ipython3",
   "version": "3.9.7"
  }
 },
 "nbformat": 4,
 "nbformat_minor": 5
}
