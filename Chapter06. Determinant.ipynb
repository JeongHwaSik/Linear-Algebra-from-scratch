{
 "cells": [
  {
   "cell_type": "code",
   "execution_count": 61,
   "id": "36984b97",
   "metadata": {},
   "outputs": [],
   "source": [
    "# determinant of 2*2 matrix\n",
    "A = [[1,2],[3,4]]\n",
    "detA = A[0][0]*A[1][1] - A[0][1]*A[1][0]\n",
    "\n",
    "# determinant of 3*3 matrix\n",
    "B = [[3,2,0],[-1,-3,6],[2,3,-5]]\n",
    "detB = 0\n",
    "for j in range(len(B)):\n",
    "    M = [B[1][:j]+B[1][j+1:], B[2][:j]+B[2][j+1:]]\n",
    "    Mij = M[0][0]*M[1][1] - M[0][1]*M[1][0]\n",
    "    Cij = (-1)**(0+j) * Mij\n",
    "    detB += Cij * B[0][j] \n",
    "\n",
    "# determinant of 4*4 matrix\n",
    "C = [[1,2,1,4],[3,5,6,1],[1,4,5,3],[7,6,3,1]]\n",
    "detC = 0\n",
    "for i in range(len(C)):\n",
    "    K = [C[1][:i]+C[1][i+1:], C[2][:i]+C[2][i+1:], C[3][:i]+C[3][i+1:]]\n",
    "    detK = 0\n",
    "    for j in range(len(K)):\n",
    "        M = [K[1][:j]+K[1][j+1:], K[2][:j]+K[2][j+1:]]\n",
    "        Mij = M[0][0]*M[1][1] - M[0][1]*M[1][0]\n",
    "        Cij = (-1)**(0+j) * Mij\n",
    "        detK += Cij * K[0][j] \n",
    "    detC += detK * C[0][i] * (-1)**(0+i)"
   ]
  },
  {
   "cell_type": "code",
   "execution_count": 86,
   "id": "707b5bbd",
   "metadata": {},
   "outputs": [],
   "source": [
    "# determinant using recursive function *****\n",
    "\n",
    "from copy import deepcopy\n",
    "\n",
    "def det_rec(A):\n",
    "    \n",
    "    n = len(A)\n",
    "    \n",
    "    if n == 2:\n",
    "        res = A[0][0]*A[1][1] - A[0][1]*A[1][0]\n",
    "        return res\n",
    "    \n",
    "    res = 0\n",
    "    for i in range(n):\n",
    "        X = deepcopy(A)\n",
    "        X = X[1:]\n",
    "        nx = len(X)\n",
    "        for j in range(nx):\n",
    "            X[j] = X[j][:i] + X[j][i+1:]\n",
    "        sign = (-1) ** (i%2)\n",
    "        sub_det = det_rec(X)\n",
    "        res += sub_det * sign * A[0][i]\n",
    "    return res"
   ]
  },
  {
   "cell_type": "code",
   "execution_count": 14,
   "id": "0e30e861",
   "metadata": {},
   "outputs": [],
   "source": [
    "# determinant using triangular matrix *****\n",
    "\n",
    "from copy import deepcopy\n",
    "\n",
    "def det_tri(A):\n",
    "    n = len(A)\n",
    "    X = deepcopy(A)\n",
    "    r_change = 0\n",
    "    for i in range(n):\n",
    "        if X[i][i] == 0:\n",
    "            tmp = X[i+1]\n",
    "            X[i+1] = X[i]\n",
    "            X[i] = tmp\n",
    "            r_change += 1\n",
    "        for j in range(i+1, n):\n",
    "            ratio = X[j][i] / X[i][i]\n",
    "            for k in range(n):\n",
    "                X[j][k] = X[j][k] - ratio * X[i][k]\n",
    "\n",
    "    res = 1\n",
    "    for i in range(n):\n",
    "        res *= X[i][i]\n",
    "    res *= (-1)**(r_change)\n",
    "    return res"
   ]
  },
  {
   "cell_type": "code",
   "execution_count": 8,
   "id": "d0da6f10",
   "metadata": {},
   "outputs": [
    {
     "name": "stdout",
     "output_type": "stream",
     "text": [
      "5.000000000000002\n"
     ]
    }
   ],
   "source": [
    "import numpy as np\n",
    "\n",
    "A = np.array([[3,2,0],[-1,-3,6],[2,3,-5]])\n",
    "detA = np.linalg.det(A)\n",
    "print(detA)"
   ]
  }
 ],
 "metadata": {
  "kernelspec": {
   "display_name": "Python 3 (ipykernel)",
   "language": "python",
   "name": "python3"
  },
  "language_info": {
   "codemirror_mode": {
    "name": "ipython",
    "version": 3
   },
   "file_extension": ".py",
   "mimetype": "text/x-python",
   "name": "python",
   "nbconvert_exporter": "python",
   "pygments_lexer": "ipython3",
   "version": "3.9.7"
  }
 },
 "nbformat": 4,
 "nbformat_minor": 5
}
