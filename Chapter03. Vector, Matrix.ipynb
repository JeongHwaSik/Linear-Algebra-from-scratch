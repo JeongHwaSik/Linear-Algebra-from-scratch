{
 "cells": [
  {
   "cell_type": "markdown",
   "id": "4fa97309",
   "metadata": {},
   "source": [
    "# Vector"
   ]
  },
  {
   "cell_type": "code",
   "execution_count": 6,
   "id": "f721483c",
   "metadata": {},
   "outputs": [],
   "source": [
    "# vector addition\n",
    "def v_add(u, v):\n",
    "    n = len(u)\n",
    "    w = []\n",
    "    for i in range(n):\n",
    "        val = u[i] + v[i]\n",
    "        w.append(val)\n",
    "    return w\n",
    "\n",
    "# vector subtraction\n",
    "def v_subtract(u, v):\n",
    "    n = len(u)\n",
    "    w = []\n",
    "    for i in range(n):\n",
    "        val = u[i] -  v[i]\n",
    "        w.append(val)\n",
    "    return w\n",
    "\n",
    "# vector & scalar multiplication\n",
    "def scalar_v_mul(a, v):\n",
    "    n = len(v)\n",
    "    w = []\n",
    "    for i in range(n):\n",
    "        val = a * v[i]\n",
    "        w.append(val)\n",
    "    return w\n",
    "\n",
    "# vector element multiplication\n",
    "def v_mul(u, v):\n",
    "    n = len(u)\n",
    "    w = []\n",
    "    for i in range(n):\n",
    "        val = u[i] * v[i]\n",
    "        w.append(val)\n",
    "    return w\n",
    "\n",
    "# vector element division\n",
    "def v_div(u, v):\n",
    "    n = len(u)\n",
    "    w = []\n",
    "    for i in range(n):\n",
    "        val = u[i] / v[i]\n",
    "        w.append(val)\n",
    "    return w"
   ]
  },
  {
   "cell_type": "code",
   "execution_count": 23,
   "id": "d83ff4a9",
   "metadata": {},
   "outputs": [
    {
     "name": "stdout",
     "output_type": "stream",
     "text": [
      "u = [1 2 3]\n",
      "v = [4 5 6]\n",
      "\n",
      "\n",
      "u + v = [5 7 9]\n",
      "\n",
      "u - v = [-3 -3 -3]\n",
      "\n",
      "3 * v = [12 15 18]\n",
      "\n",
      "u * v = [ 4 10 18]\n",
      "\n",
      "u / v = [0.25 0.4  0.5 ]\n"
     ]
    }
   ],
   "source": [
    "import numpy as np\n",
    "\n",
    "u = np.array([1,2,3])\n",
    "v = np.array([4,5,6])\n",
    "print(f\"u = {u}\")\n",
    "print(f\"v = {v}\\n\\n\")\n",
    "print(f\"u + v = {u + v}\\n\")\n",
    "print(f\"u - v = {u - v}\\n\")\n",
    "print(f\"3 * v = {3 * v}\\n\")\n",
    "print(f\"u * v = {u * v}\\n\")\n",
    "print(f\"u / v = {u / v}\")"
   ]
  },
  {
   "cell_type": "markdown",
   "id": "06657245",
   "metadata": {},
   "source": [
    "# Matrix"
   ]
  },
  {
   "cell_type": "code",
   "execution_count": 53,
   "id": "208c6b62",
   "metadata": {},
   "outputs": [],
   "source": [
    "# matrix addition\n",
    "def add(A, B):\n",
    "    m = len(A)\n",
    "    n = len(A[0])\n",
    "    res = []\n",
    "    for i in range(m):\n",
    "        row = []\n",
    "        for j in range(n):\n",
    "            val = A[i][j] + B[i][j]\n",
    "            row.append(val)\n",
    "        res.append(row)\n",
    "    return res\n",
    "\n",
    "# matrix subtraction\n",
    "def subtract(A, B):\n",
    "    m = len(A)\n",
    "    n = len(A[0])\n",
    "    res = []\n",
    "    for i in range(m):\n",
    "        row = []\n",
    "        for j in range(n):\n",
    "            val = A[i][j] - B[i][j]\n",
    "            row.append(val)\n",
    "        res.append(row)\n",
    "    return res\n",
    "\n",
    "# matrix scalar multiplication\n",
    "def scalar_mul(a, A):\n",
    "    m = len(A)\n",
    "    n = len(A[0])\n",
    "    res = []\n",
    "    for i in range(m):\n",
    "        row = []\n",
    "        for j in range(n):\n",
    "            val = a * A[i][j]\n",
    "            row.append(val)\n",
    "        res.append(row)\n",
    "    return res\n",
    "\n",
    "# matrix element multiplication\n",
    "def ele_product(A, B):\n",
    "    m = len(A)\n",
    "    n = len(A[0])\n",
    "    res = []\n",
    "    for i in range(m):\n",
    "        row = []\n",
    "        for j in range(n):\n",
    "            val = A[i][j] * B[i][j]\n",
    "            row.append(val)\n",
    "        res.append(row)\n",
    "    return res\n",
    "\n",
    "# matrix multiplication*****\n",
    "def matmul(A, B):\n",
    "    m = len(A)\n",
    "    r = len(A[0]) # r = len(B)\n",
    "    n = len(B[0])\n",
    "    res = []\n",
    "    for i in range(m):\n",
    "        row = []\n",
    "        for j in range(n):\n",
    "            val = 0\n",
    "            for k in range(r):\n",
    "                val += A[i][k] * B[k][j]\n",
    "            row.append(val)\n",
    "        res.append(row)\n",
    "    return res"
   ]
  },
  {
   "cell_type": "markdown",
   "id": "0d498931",
   "metadata": {},
   "source": [
    "# Using Numpy Module"
   ]
  },
  {
   "cell_type": "code",
   "execution_count": 32,
   "id": "ad8feab2",
   "metadata": {},
   "outputs": [
    {
     "name": "stdout",
     "output_type": "stream",
     "text": [
      "A = \n",
      "[[2 7]\n",
      " [3 4]\n",
      " [5 6]]\n",
      "B = \n",
      "[[ 1  4]\n",
      " [ 4 -1]\n",
      " [ 2  5]]\n",
      "\n",
      "\n",
      "A + B = \n",
      "[[ 3 11]\n",
      " [ 7  3]\n",
      " [ 7 11]]\n",
      "\n",
      "A - B = \n",
      "[[ 1  3]\n",
      " [-1  5]\n",
      " [ 3  1]]\n",
      "\n",
      "3 * A = \n",
      "[[ 6 21]\n",
      " [ 9 12]\n",
      " [15 18]]\n",
      "\n",
      "np.multiply(A,B) = \n",
      "[[ 2 28]\n",
      " [12 -4]\n",
      " [10 30]]\n",
      "\n"
     ]
    }
   ],
   "source": [
    "import numpy as np\n",
    "A = np.array([[2,7],[3,4],[5,6]])\n",
    "B = np.array([[1,4],[4,-1],[2,5]])\n",
    "\n",
    "print(f\"A = \\n{A}\")\n",
    "print(f\"B = \\n{B}\\n\\n\")\n",
    "\n",
    "print(f\"A + B = \\n{A + B}\\n\")\n",
    "print(f\"A - B = \\n{A - B}\\n\")\n",
    "print(f\"3 * A = \\n{3 * A}\\n\")\n",
    "print(f\"np.multiply(A,B) = \\n{np.multiply(A,B)}\\n\")"
   ]
  },
  {
   "cell_type": "code",
   "execution_count": 9,
   "id": "cf1de941",
   "metadata": {},
   "outputs": [
    {
     "name": "stdout",
     "output_type": "stream",
     "text": [
      "A = \n",
      "[[2 7]\n",
      " [3 4]\n",
      " [5 2]]\n",
      "B = \n",
      "[[ 3 -3  5]\n",
      " [-1  2 -1]]\n",
      "\n",
      "\n",
      "np.matmul(A,B) = \n",
      "[[ -1   8   3]\n",
      " [  5  -1  11]\n",
      " [ 13 -11  23]]\n"
     ]
    }
   ],
   "source": [
    "import numpy as np\n",
    "\n",
    "A = np.array([[2,7],[3,4],[5,2]])\n",
    "B = np.array([[3,-3,5],[-1,2,-1]])\n",
    "\n",
    "print(f\"A = \\n{A}\")\n",
    "print(f\"B = \\n{B}\\n\\n\")\n",
    "\n",
    "print(f\"np.matmul(A,B) = \\n{np.matmul(A,B)}\")"
   ]
  }
 ],
 "metadata": {
  "kernelspec": {
   "display_name": "Python 3 (ipykernel)",
   "language": "python",
   "name": "python3"
  },
  "language_info": {
   "codemirror_mode": {
    "name": "ipython",
    "version": 3
   },
   "file_extension": ".py",
   "mimetype": "text/x-python",
   "name": "python",
   "nbconvert_exporter": "python",
   "pygments_lexer": "ipython3",
   "version": "3.9.7"
  }
 },
 "nbformat": 4,
 "nbformat_minor": 5
}
