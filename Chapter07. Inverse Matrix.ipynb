{
 "cells": [
  {
   "cell_type": "code",
   "execution_count": 1,
   "id": "1d2e769e",
   "metadata": {},
   "outputs": [],
   "source": [
    "def det_rec(A):\n",
    "    from copy import deepcopy\n",
    "    n = len(A)\n",
    "    \n",
    "    if n == 2:\n",
    "        res = A[0][0]*A[1][1] - A[0][1]*A[1][0]\n",
    "        return res\n",
    "    \n",
    "    res = 0\n",
    "    for i in range(n):\n",
    "        X = deepcopy(A)\n",
    "        X = X[1:]\n",
    "        nx = len(X)\n",
    "        for j in range(nx):\n",
    "            X[j] = X[j][:i] + X[j][i+1:]\n",
    "        sign = (-1) ** (i%2)\n",
    "        sub_det = det_rec(X)\n",
    "        res += sub_det * sign * A[0][i]\n",
    "    return res\n",
    "\n",
    "def transpose(A):\n",
    "    n = len(A)\n",
    "    m = len(A[0])\n",
    "    res = []\n",
    "    for j in range(m):\n",
    "        row = []\n",
    "        for i in range(n):\n",
    "            val = A[i][j]\n",
    "            row.append(val)\n",
    "        res.append(row)\n",
    "    return res\n",
    "\n",
    "def scalar_mul(a, A):\n",
    "    m = len(A)\n",
    "    n = len(A[0])\n",
    "    res = []\n",
    "    for i in range(m):\n",
    "        row = []\n",
    "        for j in range(n):\n",
    "            val = a * A[i][j]\n",
    "            row.append(val)\n",
    "        res.append(row)\n",
    "    return res\n",
    "\n",
    "\n",
    "# calculating inverse matrix *****\n",
    "\n",
    "def inv(A):\n",
    "    n = len(A)\n",
    "\n",
    "    if n == 2:\n",
    "        res = [[-A[1][1],A[0][1]],[A[1][0],-A[0][0]]]\n",
    "        return res\n",
    "          \n",
    "    C = []    \n",
    "    for i in range(n):\n",
    "        c_row = []\n",
    "        idx = list(range(0,n))\n",
    "        idx.remove(i)\n",
    "        for j in range(n):\n",
    "            X = []\n",
    "            for k in idx:\n",
    "                val = A[k][:j]+A[k][j+1:]\n",
    "                X.append(val)\n",
    "                Mij = det_rec(X)\n",
    "                Cij = Mij * (-1)**(i+j)\n",
    "            c_row.append(Cij)\n",
    "        C.append(c_row)\n",
    "\n",
    "    adj = transpose(C)\n",
    "    detA = det_rec(A)\n",
    "    res = scalar_mul(1/detA, adj)\n",
    "    return res"
   ]
  },
  {
   "cell_type": "code",
   "execution_count": 76,
   "id": "eae9260c",
   "metadata": {},
   "outputs": [
    {
     "name": "stdout",
     "output_type": "stream",
     "text": [
      "[[-0.6  2.   2.4]\n",
      " [ 1.4 -3.  -3.6]\n",
      " [ 0.6 -1.  -1.4]]\n"
     ]
    }
   ],
   "source": [
    "import numpy as np\n",
    "\n",
    "A = np.array([[3,2,0],[-1,-3,6],[2,3,-5]])\n",
    "inv_A = np.linalg.inv(A)\n",
    "print(inv_A)"
   ]
  }
 ],
 "metadata": {
  "kernelspec": {
   "display_name": "Python 3 (ipykernel)",
   "language": "python",
   "name": "python3"
  },
  "language_info": {
   "codemirror_mode": {
    "name": "ipython",
    "version": 3
   },
   "file_extension": ".py",
   "mimetype": "text/x-python",
   "name": "python",
   "nbconvert_exporter": "python",
   "pygments_lexer": "ipython3",
   "version": "3.9.7"
  }
 },
 "nbformat": 4,
 "nbformat_minor": 5
}
