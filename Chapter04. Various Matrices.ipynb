{
 "cells": [
  {
   "cell_type": "markdown",
   "id": "6a6f3a6b",
   "metadata": {},
   "source": [
    "# Transposed Matrix"
   ]
  },
  {
   "cell_type": "code",
   "execution_count": 1,
   "id": "d0feb7b8",
   "metadata": {},
   "outputs": [
    {
     "name": "stdout",
     "output_type": "stream",
     "text": [
      "[[1 4]\n",
      " [2 5]\n",
      " [3 6]]\n",
      "[[1 4]\n",
      " [2 5]\n",
      " [3 6]]\n"
     ]
    }
   ],
   "source": [
    "# transposed matrix\n",
    "def transpose(A):\n",
    "    m = len(A)\n",
    "    n = len(A[0]) \n",
    "    \n",
    "    res = []\n",
    "    for j in range(n):\n",
    "        row = []\n",
    "        for i in range(m):\n",
    "            row.append(A[i][j])\n",
    "        res.append(row)\n",
    "    return res\n",
    "\n",
    "# transposed matrix: using numpy\n",
    "import numpy as np\n",
    "A = np.array([[1,2,3],[4,5,6]])\n",
    "At1 = np.transpose(A)\n",
    "print(At1)\n",
    "At2 = A.T\n",
    "print(At2)"
   ]
  },
  {
   "cell_type": "markdown",
   "id": "2fd0dd62",
   "metadata": {},
   "source": [
    "# Symmetric Matrix"
   ]
  },
  {
   "cell_type": "code",
   "execution_count": 36,
   "id": "81b4f350",
   "metadata": {},
   "outputs": [
    {
     "name": "stdout",
     "output_type": "stream",
     "text": [
      "matrix A's 2th degree matrix:\n",
      " [[5 2 4]\n",
      " [2 5 3]\n",
      " [4 3 6]]\n",
      "matrix A's 3th degree matrix:\n",
      " [[13  8 16]\n",
      " [ 8 13 12]\n",
      " [16 12 17]]\n",
      "matrix A's 4th degree matrix:\n",
      " [[45 32 50]\n",
      " [32 38 41]\n",
      " [50 41 61]]\n",
      "matrix A's 5th degree matrix:\n",
      " [[145 114 172]\n",
      " [114 117 143]\n",
      " [172 143 202]]\n",
      "matrix A's 6th degree matrix:\n",
      " [[489 400 576]\n",
      " [400 377 488]\n",
      " [576 488 689]]\n",
      "matrix A's 7th degree matrix:\n",
      " [[1641 1376 1954]\n",
      " [1376 1242 1665]\n",
      " [1954 1665 2329]]\n",
      "matrix A's 8th degree matrix:\n",
      " [[5549 4706 6612]\n",
      " [4706 4149 5659]\n",
      " [6612 5659 7902]]\n",
      "matrix A's 9th degree matrix:\n",
      " [[18773 16024 22416]\n",
      " [16024 13957 19220]\n",
      " [22416 19220 26785]]\n",
      "matrix A's 10th degree matrix:\n",
      " [[63605 54464 75986]\n",
      " [54464 47134 65225]\n",
      " [75986 65225 90837]]\n",
      "A﹒At =\n",
      " [[5 2 4]\n",
      " [2 5 3]\n",
      " [4 3 6]]\n",
      "At﹒A =\n",
      " [[5 2 4]\n",
      " [2 5 3]\n",
      " [4 3 6]]\n"
     ]
    }
   ],
   "source": [
    "# Symmetric Matrix Property \n",
    "import numpy as np\n",
    "\n",
    "# If matrix A and transposed matrix At are same, then matrix A is symmetric.\n",
    "A = np.array([[1,0,2],[0,2,1],[2,1,1]])\n",
    "At = np.transpose(A)\n",
    "A == At\n",
    "\n",
    "# If matrix A is symmetric, then matrix A's nth degree matrix is always symmetric.\n",
    "A = np.array([[1,0,2],[0,2,1],[2,1,1]])\n",
    "AA = A\n",
    "for i in range(9):\n",
    "    AA = np.matmul(AA,A)\n",
    "    print(f\"matrix A's {i+2}th degree matrix:\\n {AA}\")\n",
    "\n",
    "# For any matrix A, A﹒At and At﹒A are both always symmetric.\n",
    "A = np.array([[1,0,2],[0,2,1],[2,1,1]])\n",
    "At = np.transpose(A)\n",
    "print(f\"A﹒At =\\n {np.matmul(A,At)}\")\n",
    "print(f\"At﹒A =\\n {np.matmul(At,A)}\")"
   ]
  },
  {
   "cell_type": "markdown",
   "id": "f5ea9ffb",
   "metadata": {},
   "source": [
    "# Diagonal Matrix"
   ]
  },
  {
   "cell_type": "code",
   "execution_count": 11,
   "id": "e280b776",
   "metadata": {},
   "outputs": [],
   "source": [
    "# diagonal matrix\n",
    "def diag(A):\n",
    "    m = len(A) # diagonal matrix is square matrix! -> m=n\n",
    "    n = len(A[0])\n",
    "    res = []\n",
    "    for i in range(m):\n",
    "        row = []\n",
    "        for j in range(n):\n",
    "            if i != j:\n",
    "                val = 0\n",
    "                row.append(val)\n",
    "            else:\n",
    "                val = A[i][j]\n",
    "                row.append(val)\n",
    "        res.append(row)\n",
    "    return res\n",
    "\n",
    "#diagonal element\n",
    "def diag_ele(A):\n",
    "    m = len(A)\n",
    "    n = len(A[0])\n",
    "    res = []\n",
    "    for i in range(m):\n",
    "        for j in range(n):\n",
    "            if i == j:\n",
    "                val = A[i][j]\n",
    "                res.append(val)\n",
    "    return res\n",
    "\n",
    "# element to diagonal matrix\n",
    "def ele2diag(a):\n",
    "    res = []\n",
    "    for i in range(len(a)):\n",
    "        row = []\n",
    "        for j in range(len(a)):\n",
    "            if i == j:\n",
    "                val = a[i]\n",
    "                row.append(val)\n",
    "            else:\n",
    "                val = 0\n",
    "                row.append(val)\n",
    "        res.append(row)\n",
    "    return res"
   ]
  },
  {
   "cell_type": "code",
   "execution_count": 14,
   "id": "c9104a0a",
   "metadata": {},
   "outputs": [
    {
     "name": "stdout",
     "output_type": "stream",
     "text": [
      "[1 5 9]\n",
      "[[1 0 0]\n",
      " [0 5 0]\n",
      " [0 0 9]]\n"
     ]
    }
   ],
   "source": [
    "import numpy as np\n",
    "\n",
    "A = np.array([[1,2,3],[4,5,6],[7,8,9]])\n",
    "D = np.diag(A)\n",
    "print(D)\n",
    "print(np.diag(D))"
   ]
  },
  {
   "cell_type": "code",
   "execution_count": 34,
   "id": "f14495cd",
   "metadata": {},
   "outputs": [
    {
     "name": "stdout",
     "output_type": "stream",
     "text": [
      "AD =\n",
      " [[ 1  6 12]\n",
      " [ 4 15 24]\n",
      " [ 7 24 36]]\n",
      "DA =\n",
      " [[ 1  2  3]\n",
      " [12 15 18]\n",
      " [28 32 36]]\n"
     ]
    }
   ],
   "source": [
    "# properties of diagonal matrix\n",
    "\n",
    "import numpy as np\n",
    "\n",
    "A = np.array([[1,2,3],[4,5,6],[7,8,9]])\n",
    "D = np.diag([1,3,4])\n",
    "\n",
    "print(f\"AD =\\n {np.matmul(A,D)}\")\n",
    "print(f\"DA =\\n {np.matmul(D,A)}\")"
   ]
  },
  {
   "cell_type": "markdown",
   "id": "af3599b5",
   "metadata": {},
   "source": [
    "# Identity Matrix"
   ]
  },
  {
   "cell_type": "code",
   "execution_count": 5,
   "id": "887e66f1",
   "metadata": {},
   "outputs": [],
   "source": [
    "# identity matrix\n",
    "\n",
    "def identity(n):\n",
    "    I = []\n",
    "    for i in range(n):\n",
    "        row = []\n",
    "        for j in range(n):\n",
    "            if i == j:\n",
    "                val = 1\n",
    "                row.append(val)\n",
    "            else:\n",
    "                val = 0\n",
    "                row.append(val)\n",
    "        I.append(row)\n",
    "    return I"
   ]
  },
  {
   "cell_type": "code",
   "execution_count": 33,
   "id": "2a45dafc",
   "metadata": {},
   "outputs": [
    {
     "name": "stdout",
     "output_type": "stream",
     "text": [
      "AI =\n",
      " [[1. 2. 3.]\n",
      " [4. 5. 6.]\n",
      " [7. 8. 9.]]\n",
      "IA =\n",
      " [[1. 2. 3.]\n",
      " [4. 5. 6.]\n",
      " [7. 8. 9.]]\n"
     ]
    }
   ],
   "source": [
    "import numpy as np\n",
    "I = np.identity(3)\n",
    "A = np.array([[1,2,3],[4,5,6],[7,8,9]])\n",
    "AI = np.matmul(A,I)\n",
    "IA = np.matmul(I,A)\n",
    "print(f\"AI =\\n {AI}\")\n",
    "print(f\"IA =\\n {IA}\")"
   ]
  },
  {
   "cell_type": "markdown",
   "id": "e035eea4",
   "metadata": {},
   "source": [
    "# Zero Matrix"
   ]
  },
  {
   "cell_type": "code",
   "execution_count": 20,
   "id": "b25abcfb",
   "metadata": {},
   "outputs": [],
   "source": [
    "# zero matrix\n",
    "\n",
    "def zero_mat(n, p):\n",
    "    Z = []\n",
    "    for i in range(n):\n",
    "        row = []\n",
    "        for j in range(p):\n",
    "            val = 0\n",
    "            row.append(val)\n",
    "        Z.append(row)\n",
    "    return Z"
   ]
  },
  {
   "cell_type": "code",
   "execution_count": 20,
   "id": "a41f66fe",
   "metadata": {},
   "outputs": [
    {
     "name": "stdout",
     "output_type": "stream",
     "text": [
      "[[0. 0.]\n",
      " [0. 0.]\n",
      " [0. 0.]]\n"
     ]
    }
   ],
   "source": [
    "import numpy as np\n",
    "Z = np.zeros((3,2))\n",
    "print(Z)"
   ]
  },
  {
   "cell_type": "markdown",
   "id": "7ecccef3",
   "metadata": {},
   "source": [
    "# Triangular Matrix"
   ]
  },
  {
   "cell_type": "code",
   "execution_count": 28,
   "id": "e6319045",
   "metadata": {},
   "outputs": [],
   "source": [
    "# upper triangular matrix\n",
    "\n",
    "def u_tri(A):\n",
    "    utri = []\n",
    "    for i in range(len(A)):\n",
    "        row = []\n",
    "        for j in range(len(A[0])):\n",
    "            if i <= j:\n",
    "                val = A[i][j]\n",
    "                row.append(val)\n",
    "            else:\n",
    "                val = 0\n",
    "                row.append(val)\n",
    "        utri.append(row)\n",
    "    return utri\n",
    "\n",
    "# lower triangular matrix\n",
    "\n",
    "def l_tri(A):\n",
    "    ltri = []\n",
    "    for i in range(len(A)):\n",
    "        row = []\n",
    "        for j in range(len(A[0])):\n",
    "            if i >= j:\n",
    "                val = A[i][j]\n",
    "                row.append(val)\n",
    "            else:\n",
    "                val = 0\n",
    "                row.append(val)\n",
    "        ltri.append(row)\n",
    "    return ltri"
   ]
  },
  {
   "cell_type": "code",
   "execution_count": 32,
   "id": "a637326c",
   "metadata": {},
   "outputs": [
    {
     "name": "stdout",
     "output_type": "stream",
     "text": [
      "Upper triangular matrix:\n",
      " [[1 2 3]\n",
      " [0 5 6]\n",
      " [0 0 9]]\n",
      "Lower triangular matrix:\n",
      " [[1 0 0]\n",
      " [4 5 0]\n",
      " [7 8 9]]\n"
     ]
    }
   ],
   "source": [
    "import numpy as np\n",
    "A = np.array([[1,2,3],[4,5,6],[7,8,9]])\n",
    "Au = np.triu(A)\n",
    "print(f\"Upper triangular matrix:\\n {Au}\")\n",
    "Al = np.tril(A)\n",
    "print(f\"Lower triangular matrix:\\n {Al}\")"
   ]
  },
  {
   "cell_type": "markdown",
   "id": "61b84c54",
   "metadata": {},
   "source": [
    "# Toeplitz Matrix *****"
   ]
  },
  {
   "cell_type": "code",
   "execution_count": 55,
   "id": "8c24b8af",
   "metadata": {},
   "outputs": [
    {
     "data": {
      "text/plain": [
       "[[1, 3, 5, 7, 9], [0, 1, 3, 5, 7], [-2, 0, 1, 3, 5], [-4, -2, 0, 1, 3]]"
      ]
     },
     "execution_count": 55,
     "metadata": {},
     "output_type": "execute_result"
    }
   ],
   "source": [
    "#toeplitz matrix\n",
    "\n",
    "a = [1,0,-2,-4]\n",
    "b = [1,3,5,7,9]\n",
    "\n",
    "def toeplitz(a,b):\n",
    "    n1 = len(a)\n",
    "    n2 = len(b)\n",
    "    A = []\n",
    "    for i in range(n1):\n",
    "        row = []\n",
    "        for j in range(n2):\n",
    "            if i <= j:\n",
    "                row.append(b[j-i])\n",
    "            else:\n",
    "                row.append(a[i-j])\n",
    "        A.append(row)\n",
    "    return A\n",
    "\n",
    "toeplitz(a,b)"
   ]
  },
  {
   "cell_type": "code",
   "execution_count": 17,
   "id": "e8240c7a",
   "metadata": {},
   "outputs": [
    {
     "name": "stdout",
     "output_type": "stream",
     "text": [
      "[[ 1  3  5  7  9]\n",
      " [ 0  1  3  5  7]\n",
      " [-2  0  1  3  5]\n",
      " [-4 -2  0  1  3]]\n"
     ]
    }
   ],
   "source": [
    "from scipy.linalg import toeplitz\n",
    "\n",
    "A = toeplitz([1, 0,-2,-4], [1,3,5,7,9]) # a=[1,0,-2,-4], b=[1,3,5,7,9]\n",
    "print(A)"
   ]
  },
  {
   "cell_type": "markdown",
   "id": "75b51e24",
   "metadata": {},
   "source": [
    "# Bidiagonal Matrix"
   ]
  },
  {
   "cell_type": "code",
   "execution_count": 66,
   "id": "63b63b4e",
   "metadata": {},
   "outputs": [],
   "source": [
    "# upper bidiagonal matrix\n",
    "def u_bidiag(A):\n",
    "    n = len(A)\n",
    "    m = len(A[0])\n",
    "    res = []\n",
    "    for i in range(n):\n",
    "        row = []\n",
    "        for j in range(m):\n",
    "            if j-i < 0 or j-i > 1:\n",
    "                val = 0\n",
    "                row.append(val)\n",
    "            else:\n",
    "                val = A[i][j]\n",
    "                row.append(val)\n",
    "        res.append(row)\n",
    "    return res\n",
    "\n",
    "# lower bidiagonal matrix\n",
    "def l_bidiag(A):\n",
    "    n = len(A)\n",
    "    m = len(A[0])\n",
    "    res = []\n",
    "    for i in range(n):\n",
    "        row = []\n",
    "        for j in range(m):\n",
    "            if i-j < 0 or i-j > 1:\n",
    "                val = 0\n",
    "                row.append(val)\n",
    "            else:\n",
    "                val = A[i][j]\n",
    "                row.append(val)\n",
    "        res.append(row)\n",
    "    return res"
   ]
  },
  {
   "cell_type": "code",
   "execution_count": 75,
   "id": "9a51bf2d",
   "metadata": {},
   "outputs": [
    {
     "name": "stdout",
     "output_type": "stream",
     "text": [
      "[[1 2 0 0]\n",
      " [0 3 4 0]\n",
      " [0 0 7 9]\n",
      " [0 0 0 3]]\n",
      "[[1 0 0 0]\n",
      " [5 3 0 0]\n",
      " [0 1 7 0]\n",
      " [0 0 1 3]]\n"
     ]
    }
   ],
   "source": [
    "import numpy as np\n",
    "\n",
    "# upper bidiagonal matrix\n",
    "A = np.array([[1,2,1,3],[5,3,4,1],[2,1,7,9],[2,8,1,3]])\n",
    "diag_ele = np.diag(A)\n",
    "u_diag_ele = np.diag(A,k=1)\n",
    "u_diag = np.diag(diag_ele) + np.diag(u_diag_ele, k=1)\n",
    "print(u_diag)\n",
    "\n",
    "# lower bidiagonal matrix\n",
    "A = np.array([[1,2,1,3],[5,3,4,1],[2,1,7,9],[2,8,1,3]])\n",
    "diag_ele = np.diag(A)\n",
    "l_diag_ele = np.diag(A,k=-1)\n",
    "l_diag = np.diag(diag_ele) + np.diag(l_diag_ele, k=-1)\n",
    "print(l_diag)"
   ]
  },
  {
   "cell_type": "markdown",
   "id": "7bb5ecfe",
   "metadata": {},
   "source": [
    "# Householder Matrix"
   ]
  },
  {
   "cell_type": "code",
   "execution_count": 25,
   "id": "b25680d7",
   "metadata": {},
   "outputs": [],
   "source": [
    "# outer product\n",
    "def outer_product(a, b):\n",
    "    n1 = len(a)\n",
    "    n2 = len(b)\n",
    "    res = []\n",
    "    for i in range(n1):\n",
    "        row = []\n",
    "        for j in range(n2):\n",
    "            val = a[i] * b[j]\n",
    "            row.append(val)\n",
    "        res.append(row)\n",
    "    return res\n",
    "\n",
    "# inner product\n",
    "def inner_product(a, b):\n",
    "    n1 = len(a) # n1 = len(b)\n",
    "    val = 0\n",
    "    for i in range(n1):\n",
    "        val += a[i] * b[i]\n",
    "    return val\n",
    "\n",
    "# identity matrix\n",
    "def identity(n):\n",
    "    I = []\n",
    "    for i in range(n):\n",
    "        row = []\n",
    "        for j in range(n):\n",
    "            if i != j:\n",
    "                val = 0\n",
    "                row.append(val)\n",
    "            else:\n",
    "                val = 1\n",
    "                row.append(val)\n",
    "        I.append(row)\n",
    "    return I\n",
    "\n",
    "# matrix subtraction\n",
    "def subtract(A, B):\n",
    "    res = []\n",
    "    for i in range(len(A)):\n",
    "        row = []\n",
    "        for j in range(len(B)):\n",
    "            val = A[i][j] - B[i][j]\n",
    "            row.append(val)\n",
    "        res.append(row)\n",
    "    return res\n",
    "\n",
    "# householder matrix\n",
    "def householder(v):\n",
    "    n = len(v)\n",
    "    outer_mat = outer_product(v,v) #list\n",
    "    inner_val = inner_product(v,v) #int\n",
    "    V = []\n",
    "    for i in range(n):\n",
    "        row = []\n",
    "        for j in range(n):\n",
    "            val = (outer_mat[i][j] / inner_val) * 2\n",
    "            row.append(val)\n",
    "        V.append(row)\n",
    "    I = identity(n)\n",
    "    H = subtract(I, V)\n",
    "    return H    "
   ]
  },
  {
   "cell_type": "code",
   "execution_count": 34,
   "id": "51eac1eb",
   "metadata": {},
   "outputs": [],
   "source": [
    "import numpy as np\n",
    "\n",
    "v = np.array([1,0,2,3])\n",
    "\n",
    "n = len(v)\n",
    "outer_mat = np.outer(v,v)\n",
    "inner_val = np.inner(v,v)\n",
    "I = np.identity(n)\n",
    "\n",
    "H = I - (outer_mat/inner_val)*2"
   ]
  }
 ],
 "metadata": {
  "kernelspec": {
   "display_name": "Python 3 (ipykernel)",
   "language": "python",
   "name": "python3"
  },
  "language_info": {
   "codemirror_mode": {
    "name": "ipython",
    "version": 3
   },
   "file_extension": ".py",
   "mimetype": "text/x-python",
   "name": "python",
   "nbconvert_exporter": "python",
   "pygments_lexer": "ipython3",
   "version": "3.9.7"
  }
 },
 "nbformat": 4,
 "nbformat_minor": 5
}
