{
 "cells": [
  {
   "cell_type": "code",
   "execution_count": 9,
   "id": "7acb2489",
   "metadata": {},
   "outputs": [
    {
     "name": "stdout",
     "output_type": "stream",
     "text": [
      "[[[1, 2], [3, 4]], [[5, 6], [7, 8]]]\n",
      "1\n",
      "6\n",
      "4\n"
     ]
    }
   ],
   "source": [
    "# tensor\n",
    "\n",
    "T = [[[1,2],[3,4]],[[5,6],[7,8]]] #2✕2✕2 tensor \n",
    "print(T)\n",
    "print(T[0][0][0])\n",
    "print(T[1][0][1])\n",
    "print(T[0][1][1])"
   ]
  },
  {
   "cell_type": "code",
   "execution_count": 20,
   "id": "66ba4a0b",
   "metadata": {},
   "outputs": [
    {
     "name": "stdout",
     "output_type": "stream",
     "text": [
      "Norm(A) = 8.774964387392123\n"
     ]
    }
   ],
   "source": [
    "# norm of tensor\n",
    "\n",
    "A = [[[1,0,1,0],[2,1,0,1],[3,4,0,2]],[[3,1,2,0],[1,0,4,2],[0,1,0,2]]] #2✕3✕4 tensor \n",
    "\n",
    "n = len(A[0])\n",
    "p = len(A[0][0])\n",
    "q = len(A)\n",
    "\n",
    "norm = 0\n",
    "for i in range(n):\n",
    "    for j in range(p):\n",
    "        for k in range(q):\n",
    "            norm += A[k][i][j]**2\n",
    "norm = norm ** 0.5\n",
    "print(f\"Norm(A) = {norm}\")"
   ]
  },
  {
   "cell_type": "code",
   "execution_count": 52,
   "id": "cc06f4be",
   "metadata": {},
   "outputs": [
    {
     "name": "stdout",
     "output_type": "stream",
     "text": [
      "inner_product = 39\n",
      "39\n"
     ]
    }
   ],
   "source": [
    "# inner product of tensor\n",
    "\n",
    "A = [[[1,0,1,0],[2,1,0,1],[3,4,0,2]],[[3,1,2,0],[1,0,4,2],[0,1,0,2]]]\n",
    "B = [[[2,1,3,1],[0,2,1,3],[1,0,1,1]],[[1,2,3,1],[3,1,0,3],[0,2,3,1]]]\n",
    "\n",
    "n = len(A[0])\n",
    "p = len(A[0][0])\n",
    "q = len(A)\n",
    "\n",
    "inner_product = 0\n",
    "for i in range(n):\n",
    "    for j in range(p):\n",
    "        for k in range(q):\n",
    "            inner_product += A[k][i][j]*B[k][i][j]\n",
    "print(f\"inner_product = {inner_product}\")\n",
    "\n",
    "\n",
    "# inner product using Numpy\n",
    "import numpy as np\n",
    "\n",
    "C = np.multiply(A,B)\n",
    "inner_p = 0\n",
    "for i in range(len(C)):\n",
    "    for j in range(len(C[0])):\n",
    "        for k in range(len(C[0][0])):\n",
    "            inner_p += C[i][j][k]\n",
    "print(inner_p)"
   ]
  },
  {
   "cell_type": "code",
   "execution_count": 69,
   "id": "7aa6e30d",
   "metadata": {},
   "outputs": [
    {
     "name": "stdout",
     "output_type": "stream",
     "text": [
      "[[1, 4, 7, 10, 13, 16, 19, 22], [2, 5, 8, 11, 14, 17, 20, 23], [3, 6, 9, 12, 15, 18, 21, 24]]\n",
      "[[1, 2, 3, 13, 14, 15], [4, 5, 6, 16, 17, 18], [7, 8, 9, 19, 20, 21], [10, 11, 12, 22, 23, 24]]\n",
      "[[1, 2, 3, 4, 5, 6, 7, 8, 9, 10, 11, 12], [13, 14, 15, 16, 17, 18, 19, 20, 21, 22, 23, 24]]\n",
      "[[ 1  4  7 10 13 16 19 22]\n",
      " [ 2  5  8 11 14 17 20 23]\n",
      " [ 3  6  9 12 15 18 21 24]]\n",
      "[[ 1  2  3 13 14 15]\n",
      " [ 4  5  6 16 17 18]\n",
      " [ 7  8  9 19 20 21]\n",
      " [10 11 12 22 23 24]]\n",
      "[[ 1  4  7 10  2  5  8 11  3  6  9 12]\n",
      " [13 16 19 22 14 17 20 23 15 18 21 24]]\n"
     ]
    }
   ],
   "source": [
    "# matricization\n",
    "\n",
    "A = [[[1,4,7,10],[2,5,8,11],[3,6,9,12]],[[13,16,19,22],[14,17,20,23],[15,18,21,24]]] #2✕3✕4 tensor \n",
    "\n",
    "n = len(A[0])\n",
    "p = len(A[0][0])\n",
    "q = len(A)\n",
    "\n",
    "# mode-1 matricization\n",
    "mode1 = []\n",
    "for i in range(n):\n",
    "    row = []\n",
    "    for j in range(q):\n",
    "        for k in range(p):\n",
    "            row.append(A[j][i][k])\n",
    "    mode1.append(row)\n",
    "print(mode1)\n",
    "\n",
    "# mode-2 matricization\n",
    "mode2 = []\n",
    "for i in range(p):\n",
    "    row = []\n",
    "    for j in range(q):\n",
    "        for k in range(n):\n",
    "            row.append(A[j][k][i])\n",
    "    mode2.append(row)\n",
    "print(mode2)\n",
    "\n",
    "# mode-3 matricization\n",
    "mode3 = []\n",
    "for i in range(q):\n",
    "    row = []\n",
    "    for j in range(p):\n",
    "        for k in range(n):\n",
    "            row.append(A[i][k][j])\n",
    "    mode3.append(row)\n",
    "print(mode3)\n",
    "\n",
    "\n",
    "# matricization using Numpy\n",
    "import numpy as np\n",
    "\n",
    "A = np.array([[[1,4,7,10],[2,5,8,11],[3,6,9,12]],[[13,16,19,22],[14,17,20,23],[15,18,21,24]]]) #2✕3✕4 tensor\n",
    "\n",
    "# mode-1 matricization\n",
    "mode_1 = np.concatenate((A[0],A[1]), axis=1)\n",
    "print(mode_1)\n",
    "# mode-2 matricization\n",
    "mode_2 = np.concatenate((A[0].T, A[1].T), axis=1)\n",
    "print(mode_2)\n",
    "# mode-2 matricization\n",
    "A0 = A[0].reshape(-1)\n",
    "A1 = A[1].reshape(-1)\n",
    "mode_3 = np.concatenate((A0,A1), axis=0).reshape(2,-1)\n",
    "print(mode_3)"
   ]
  },
  {
   "cell_type": "code",
   "execution_count": 71,
   "id": "a747d58f",
   "metadata": {},
   "outputs": [
    {
     "name": "stdout",
     "output_type": "stream",
     "text": [
      "[[[22, 49, 76, 103], [28, 64, 100, 136]], [[130, 157, 184, 211], [172, 208, 244, 280]]]\n",
      "[[[ 22  49  76 103]\n",
      "  [ 28  64 100 136]]\n",
      "\n",
      " [[130 157 184 211]\n",
      "  [172 208 244 280]]]\n"
     ]
    }
   ],
   "source": [
    "# tensor product\n",
    "\n",
    "U = [[1,3,5],[2,4,6]] #2✕3 matrix \n",
    "A = [[[1,4,7,10],[2,5,8,11],[3,6,9,12]],[[13,16,19,22],[14,17,20,23],[15,18,21,24]]] #2✕3✕4 tensor \n",
    "\n",
    "tensor_product = []\n",
    "for t in range(len(A)):\n",
    "    matrix = []\n",
    "    for i in range(len(U)):\n",
    "        row = []\n",
    "        for q in range(len(A[0][0])):\n",
    "            val = 0\n",
    "            for j in range(len(U[0])):\n",
    "                val += U[i][j] * A[t][j][q]\n",
    "            row.append(val)\n",
    "        matrix.append(row)\n",
    "    tensor_product.append(matrix)\n",
    "    \n",
    "print(tensor_product)\n",
    "\n",
    "\n",
    "# tensor product using numpy\n",
    "import numpy as np\n",
    "\n",
    "U = [[1,3,5],[2,4,6]] #2✕3 matrix \n",
    "A = [[[1,4,7,10],[2,5,8,11],[3,6,9,12]],[[13,16,19,22],[14,17,20,23],[15,18,21,24]]] #2✕3✕4 tensor\n",
    "\n",
    "UA1 = np.matmul(U, A[0])\n",
    "UA2 = np.matmul(U, A[1])\n",
    "tensor_p = np.concatenate((UA1, UA2), axis=0).reshape(2,2,4)\n",
    "print(tensor_p)"
   ]
  }
 ],
 "metadata": {
  "kernelspec": {
   "display_name": "Python 3 (ipykernel)",
   "language": "python",
   "name": "python3"
  },
  "language_info": {
   "codemirror_mode": {
    "name": "ipython",
    "version": 3
   },
   "file_extension": ".py",
   "mimetype": "text/x-python",
   "name": "python",
   "nbconvert_exporter": "python",
   "pygments_lexer": "ipython3",
   "version": "3.9.7"
  }
 },
 "nbformat": 4,
 "nbformat_minor": 5
}
